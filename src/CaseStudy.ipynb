{
 "cells": [
  {
   "cell_type": "code",
   "execution_count": 125,
   "id": "functioning-extension",
   "metadata": {},
   "outputs": [],
   "source": [
    "import pyspark as ps\n",
    "import pyspark.sql.functions as F\n",
    "import matplotlib.pyplot as plt\n",
    "from pyspark.sql.types import *\n",
    "\n",
    "\n",
    "%matplotlib inline"
   ]
  },
  {
   "cell_type": "code",
   "execution_count": 126,
   "id": "continental-module",
   "metadata": {},
   "outputs": [],
   "source": [
    "# Spark Session Set Up\n",
    "spark = (ps.sql.SparkSession.builder\n",
    "        .master(\"local[4]\")\n",
    "        .appName(\"spark-case-study\")\n",
    "        .getOrCreate())\n",
    "sc = spark.sparkContext"
   ]
  },
  {
   "cell_type": "code",
   "execution_count": 127,
   "id": "spatial-yemen",
   "metadata": {},
   "outputs": [
    {
     "data": {
      "text/plain": [
       "[Row(contributors=None, coordinates=None, created_at='Wed Apr 26 13:30:45 +0000 2017', display_text_range=None, entities=Row(hashtags=[], media=None, symbols=[], urls=[], user_mentions=[]), extended_entities=None, extended_tweet=None, favorite_count=0, favorited=False, filter_level='low', geo=None, id=857225437122097152, id_str='857225437122097152', in_reply_to_screen_name=None, in_reply_to_status_id=None, in_reply_to_status_id_str=None, in_reply_to_user_id=None, in_reply_to_user_id_str=None, is_quote_status=False, lang='fr', limit=None, place=Row(bounding_box=Row(coordinates=[[[-0.061141, 49.208997], [-0.061141, 49.250115], [-0.032199, 49.250115], [-0.032199, 49.208997]]], type='Polygon'), country='France', country_code='FR', full_name='Dozulé, France', id='4da693e9b39923ab', name='Dozulé', place_type='city', url='https://api.twitter.com/1.1/geo/id/4da693e9b39923ab.json'), possibly_sensitive=None, quoted_status=None, quoted_status_id=None, quoted_status_id_str=None, retweet_count=0, retweeted=False, source='<a href=\"http://twitter.com/download/iphone\" rel=\"nofollow\">Twitter for iPhone</a>', text='Je comprends pas trop la fin de 13 reasons why 😓', timestamp_ms='1493213445345', truncated=False, user=Row(contributors_enabled=False, created_at='Sun Apr 05 16:03:00 +0000 2015', default_profile=True, default_profile_image=False, description=None, favourites_count=777, follow_request_sent=None, followers_count=318, following=None, friends_count=406, geo_enabled=True, id=3137428743, id_str='3137428743', is_translator=False, lang='fr', listed_count=2, location=None, name='TAÏNA♡', notifications=None, profile_background_color='C0DEED', profile_background_image_url='http://abs.twimg.com/images/themes/theme1/bg.png', profile_background_image_url_https='https://abs.twimg.com/images/themes/theme1/bg.png', profile_background_tile=False, profile_banner_url='https://pbs.twimg.com/profile_banners/3137428743/1492766586', profile_image_url='http://pbs.twimg.com/profile_images/857204115981697024/XcetMiHe_normal.jpg', profile_image_url_https='https://pbs.twimg.com/profile_images/857204115981697024/XcetMiHe_normal.jpg', profile_link_color='1DA1F2', profile_sidebar_border_color='C0DEED', profile_sidebar_fill_color='DDEEF6', profile_text_color='333333', profile_use_background_image=True, protected=False, screen_name='tainabmn', statuses_count=3251, time_zone=None, url=None, utc_offset=None, verified=False))]"
      ]
     },
     "execution_count": 127,
     "metadata": {},
     "output_type": "execute_result"
    }
   ],
   "source": [
    "# Read json data \n",
    "df_tweets = spark.read.json('data/french_tweets.json')\n",
    "df_tweets.take(1)"
   ]
  },
  {
   "cell_type": "code",
   "execution_count": 128,
   "id": "detailed-seminar",
   "metadata": {},
   "outputs": [],
   "source": [
    "# Create an id column \n",
    "df = df_tweets.withColumn(\"m_id\", F.monotonically_increasing_id())"
   ]
  },
  {
   "cell_type": "code",
   "execution_count": 129,
   "id": "handed-acting",
   "metadata": {},
   "outputs": [
    {
     "data": {
      "text/plain": [
       "[Row(contributors=None, coordinates=None, created_at='Wed Apr 26 13:30:45 +0000 2017', display_text_range=None, entities=Row(hashtags=[], media=None, symbols=[], urls=[], user_mentions=[]), extended_entities=None, extended_tweet=None, favorite_count=0, favorited=False, filter_level='low', geo=None, id=857225437122097152, id_str='857225437122097152', in_reply_to_screen_name=None, in_reply_to_status_id=None, in_reply_to_status_id_str=None, in_reply_to_user_id=None, in_reply_to_user_id_str=None, is_quote_status=False, lang='fr', limit=None, place=Row(bounding_box=Row(coordinates=[[[-0.061141, 49.208997], [-0.061141, 49.250115], [-0.032199, 49.250115], [-0.032199, 49.208997]]], type='Polygon'), country='France', country_code='FR', full_name='Dozulé, France', id='4da693e9b39923ab', name='Dozulé', place_type='city', url='https://api.twitter.com/1.1/geo/id/4da693e9b39923ab.json'), possibly_sensitive=None, quoted_status=None, quoted_status_id=None, quoted_status_id_str=None, retweet_count=0, retweeted=False, source='<a href=\"http://twitter.com/download/iphone\" rel=\"nofollow\">Twitter for iPhone</a>', text='Je comprends pas trop la fin de 13 reasons why 😓', timestamp_ms='1493213445345', truncated=False, user=Row(contributors_enabled=False, created_at='Sun Apr 05 16:03:00 +0000 2015', default_profile=True, default_profile_image=False, description=None, favourites_count=777, follow_request_sent=None, followers_count=318, following=None, friends_count=406, geo_enabled=True, id=3137428743, id_str='3137428743', is_translator=False, lang='fr', listed_count=2, location=None, name='TAÏNA♡', notifications=None, profile_background_color='C0DEED', profile_background_image_url='http://abs.twimg.com/images/themes/theme1/bg.png', profile_background_image_url_https='https://abs.twimg.com/images/themes/theme1/bg.png', profile_background_tile=False, profile_banner_url='https://pbs.twimg.com/profile_banners/3137428743/1492766586', profile_image_url='http://pbs.twimg.com/profile_images/857204115981697024/XcetMiHe_normal.jpg', profile_image_url_https='https://pbs.twimg.com/profile_images/857204115981697024/XcetMiHe_normal.jpg', profile_link_color='1DA1F2', profile_sidebar_border_color='C0DEED', profile_sidebar_fill_color='DDEEF6', profile_text_color='333333', profile_use_background_image=True, protected=False, screen_name='tainabmn', statuses_count=3251, time_zone=None, url=None, utc_offset=None, verified=False), m_id=0)]"
      ]
     },
     "execution_count": 129,
     "metadata": {},
     "output_type": "execute_result"
    }
   ],
   "source": [
    "df.take(1)"
   ]
  },
  {
   "cell_type": "code",
   "execution_count": 142,
   "id": "upset-formation",
   "metadata": {},
   "outputs": [],
   "source": [
    "# Create a new table view \n",
    "df.createOrReplaceTempView('tweets')"
   ]
  },
  {
   "cell_type": "code",
   "execution_count": 143,
   "id": "joint-accreditation",
   "metadata": {},
   "outputs": [],
   "source": [
    "query = \"\"\"SELECT m_id, place.country as country, place.country_code as country_code,\n",
    "            favorite_count, favorited, filter_level, id, id_str, in_reply_to_screen_name, \n",
    "            in_reply_to_status_id, in_reply_to_status_id_str, in_reply_to_user_id, in_reply_to_user_id_str, \n",
    "            is_quote_status, lang,possibly_sensitive, quoted_status, quoted_status_id_str, retweet_count, retweeted, text, timestamp_ms, quoted_status_id\n",
    "            FROM tweets\"\"\"\n",
    "\n",
    "dfn = spark.sql(query)"
   ]
  },
  {
   "cell_type": "code",
   "execution_count": 144,
   "id": "worth-latino",
   "metadata": {},
   "outputs": [
    {
     "data": {
      "text/plain": [
       "[Row(m_id=0, country='France', country_code='FR', favorite_count=0, favorited=False, filter_level='low', id=857225437122097152, id_str='857225437122097152', in_reply_to_screen_name=None, in_reply_to_status_id=None, in_reply_to_status_id_str=None, in_reply_to_user_id=None, in_reply_to_user_id_str=None, is_quote_status=False, lang='fr', possibly_sensitive=None, quoted_status=None, quoted_status_id_str=None, retweet_count=0, retweeted=False, text='Je comprends pas trop la fin de 13 reasons why 😓', timestamp_ms='1493213445345', quoted_status_id=None)]"
      ]
     },
     "execution_count": 144,
     "metadata": {},
     "output_type": "execute_result"
    }
   ],
   "source": [
    "dfn.take(1)"
   ]
  },
  {
   "cell_type": "code",
   "execution_count": 145,
   "id": "younger-impossible",
   "metadata": {},
   "outputs": [
    {
     "data": {
      "text/plain": [
       "'\\n# Create word Cloud\\nhashtags = spark.sql(\"\"\"SELECT hashtags FROM tweets\"\"\")\\ntext = \\'\\'\\nfor hash in hashtags.collect():\\n    text += hash.asDict()[\\'hashtags\\']\\n\\n# Define a function to plot word cloud\\ndef plot_cloud(wordcloud):\\n    # Set figure size\\n    plt.figure(figsize=(40, 30))\\n    # Display image\\n    plt.imshow(wordcloud) \\n    # No axis details\\n    plt.axis(\"off\");\\n    \\n# Generate word cloud\\nwordcloud = WordCloud(width = 3000, height = 2000, random_state=1, background_color=\\'salmon\\', colormap=\\'Pastel1\\', collocations=False, stopwords = STOPWORDS).generate(text)\\n\\n# Plot\\nplot_cloud(wordcloud)\\n'"
      ]
     },
     "execution_count": 145,
     "metadata": {},
     "output_type": "execute_result"
    }
   ],
   "source": [
    "##########\n",
    "# hashtags cleaner function\n",
    "def hashtags(h):\n",
    "    if h:\n",
    "        return ' '.join(h)\n",
    "    else:\n",
    "        return ''\n",
    "hashtags_udf = F.udf(hashtags, StringType())\n",
    "\n",
    "# add hashtags column\n",
    "df_with_id = df.withColumn(\"hashtags\", hashtags_udf(df[\"entities.hashtags.text\"]))\n",
    "\n",
    "# create tweets table\n",
    "df_with_id.createOrReplaceTempView('tweets')\n",
    "\n",
    "'''\n",
    "# Create word Cloud\n",
    "hashtags = spark.sql(\"\"\"SELECT hashtags FROM tweets\"\"\")\n",
    "text = ''\n",
    "for hash in hashtags.collect():\n",
    "    text += hash.asDict()['hashtags']\n",
    "\n",
    "# Define a function to plot word cloud\n",
    "def plot_cloud(wordcloud):\n",
    "    # Set figure size\n",
    "    plt.figure(figsize=(40, 30))\n",
    "    # Display image\n",
    "    plt.imshow(wordcloud) \n",
    "    # No axis details\n",
    "    plt.axis(\"off\");\n",
    "    \n",
    "# Generate word cloud\n",
    "wordcloud = WordCloud(width = 3000, height = 2000, random_state=1, background_color='salmon', colormap='Pastel1', collocations=False, stopwords = STOPWORDS).generate(text)\n",
    "\n",
    "# Plot\n",
    "plot_cloud(wordcloud)\n",
    "'''"
   ]
  },
  {
   "cell_type": "code",
   "execution_count": 146,
   "id": "inappropriate-volunteer",
   "metadata": {},
   "outputs": [
    {
     "data": {
      "text/plain": [
       "[Row(m_id=0, hashtags='')]"
      ]
     },
     "execution_count": 146,
     "metadata": {},
     "output_type": "execute_result"
    }
   ],
   "source": [
    "dfv = df_with_id.select('m_id','hashtags')\n",
    "dfv.take(1)"
   ]
  },
  {
   "cell_type": "code",
   "execution_count": 151,
   "id": "affected-imperial",
   "metadata": {},
   "outputs": [
    {
     "data": {
      "text/plain": [
       "[Row(m_id=0, user_contributors_enabled=False, user_created_at='Sun Apr 05 16:03:00 +0000 2015', user_default_profile_image=False, user_description=None, user_favourites_count=777, user_follow_request_sent=None, user_followers_count=318, user_following=None, user_friends_count=406, user_id=3137428743, user_lang='fr', user_listed_count=2, user_location=None, user_name='TAÏNA♡', user_screen_name='tainabmn', user_statuses_count=3251, user_time_zone=None, user_verified=False)]"
      ]
     },
     "execution_count": 151,
     "metadata": {},
     "output_type": "execute_result"
    }
   ],
   "source": [
    "# Create new table \n",
    "df.createOrReplaceTempView('tweets')\n",
    "query_a1 = \"\"\"SELECT m_id, \n",
    "            user.contributors_enabled as user_contributors_enabled,\n",
    "            user.created_at as user_created_at,\n",
    "            user.default_profile_image as user_default_profile_image,\n",
    "            user.description as user_description,\n",
    "            user.favourites_count as user_favourites_count,\n",
    "            user.follow_request_sent as user_follow_request_sent,\n",
    "            user.followers_count as user_followers_count,\n",
    "            user.following as user_following,\n",
    "            user.friends_count as user_friends_count,\n",
    "            user.id as user_id,\n",
    "            user.lang as user_lang,\n",
    "            user.listed_count as user_listed_count,\n",
    "            user.location as user_location,\n",
    "            user.name as user_name,\n",
    "            user.screen_name as user_screen_name,\n",
    "            user.statuses_count as user_statuses_count,\n",
    "            user.time_zone as user_time_zone,\n",
    "            user.verified as user_verified\n",
    "            FROM tweets\n",
    "            \"\"\"\n",
    "dfa = spark.sql(query_a1)\n",
    "dfa.take(1)"
   ]
  },
  {
   "cell_type": "code",
   "execution_count": 152,
   "id": "underlying-medline",
   "metadata": {},
   "outputs": [],
   "source": [
    "# Create different tables for merging \n",
    "dfa.createOrReplaceTempView('tweets_a')\n",
    "dfv.createOrReplaceTempView('tweets_v')\n",
    "dfn.createOrReplaceTempView('tweets_n')"
   ]
  },
  {
   "cell_type": "code",
   "execution_count": 157,
   "id": "studied-maryland",
   "metadata": {},
   "outputs": [
    {
     "data": {
      "text/plain": [
       "[Row(m_id=8589934592, country='France', country_code='FR', favorite_count=0, favorited=False, filter_level='low', id=857501461365829632, id_str='857501461365829632', in_reply_to_screen_name=None, in_reply_to_status_id=None, in_reply_to_status_id_str=None, in_reply_to_user_id=None, in_reply_to_user_id_str=None, is_quote_status=False, lang='en', possibly_sensitive=False, quoted_status=None, quoted_status_id_str=None, retweet_count=0, retweeted=False, text='Here were are on my way to Italy #caxtonlife https://t.co/7cC3kqK9bW', timestamp_ms='1493279254653', quoted_status_id=None, m_id=8589934592, user_contributors_enabled=False, user_created_at='Sun Dec 14 15:55:54 +0000 2014', user_default_profile_image=False, user_description='Adventure Cyclist, World Record Breaker, Inspirational Speaker, Spin Instructor and Blogger #TcrNo5 and #WRAttempt most Countries Cycled 7 Days 2017!', user_favourites_count=4409, user_follow_request_sent=None, user_followers_count=22069, user_following=None, user_friends_count=14253, user_id=2921517225, user_lang='en', user_listed_count=209, user_location=\"King's Lynn, England\", user_name='Robbie Ferri', user_screen_name='LTDRF', user_statuses_count=11351, user_time_zone='London', user_verified=False, m_id=8589934592, hashtags='caxtonlife')]"
      ]
     },
     "execution_count": 157,
     "metadata": {},
     "output_type": "execute_result"
    }
   ],
   "source": [
    "# Join all table \n",
    "query2 = \"\"\"SELECT * FROM tweets_n n\n",
    "            LEFT JOIN tweets_a a\n",
    "                ON n.m_id = a.m_id\n",
    "            LEFT JOIN tweets_v v \n",
    "                ON n.m_id = v.m_id\n",
    "    \"\"\"\n",
    "dfm = spark.sql(query2)\n",
    "dfm.take(1)"
   ]
  },
  {
   "cell_type": "code",
   "execution_count": 158,
   "id": "divine-gateway",
   "metadata": {},
   "outputs": [
    {
     "data": {
      "text/plain": [
       "{'m_id': 8589934592,\n",
       " 'country': 'France',\n",
       " 'country_code': 'FR',\n",
       " 'favorite_count': 0,\n",
       " 'favorited': False,\n",
       " 'filter_level': 'low',\n",
       " 'id': 857501461365829632,\n",
       " 'id_str': '857501461365829632',\n",
       " 'in_reply_to_screen_name': None,\n",
       " 'in_reply_to_status_id': None,\n",
       " 'in_reply_to_status_id_str': None,\n",
       " 'in_reply_to_user_id': None,\n",
       " 'in_reply_to_user_id_str': None,\n",
       " 'is_quote_status': False,\n",
       " 'lang': 'en',\n",
       " 'possibly_sensitive': False,\n",
       " 'quoted_status': None,\n",
       " 'quoted_status_id_str': None,\n",
       " 'retweet_count': 0,\n",
       " 'retweeted': False,\n",
       " 'text': 'Here were are on my way to Italy #caxtonlife https://t.co/7cC3kqK9bW',\n",
       " 'timestamp_ms': '1493279254653',\n",
       " 'quoted_status_id': None,\n",
       " 'user_contributors_enabled': False,\n",
       " 'user_created_at': 'Sun Dec 14 15:55:54 +0000 2014',\n",
       " 'user_default_profile_image': False,\n",
       " 'user_description': 'Adventure Cyclist, World Record Breaker, Inspirational Speaker, Spin Instructor and Blogger #TcrNo5 and #WRAttempt most Countries Cycled 7 Days 2017!',\n",
       " 'user_favourites_count': 4409,\n",
       " 'user_follow_request_sent': None,\n",
       " 'user_followers_count': 22069,\n",
       " 'user_following': None,\n",
       " 'user_friends_count': 14253,\n",
       " 'user_id': 2921517225,\n",
       " 'user_lang': 'en',\n",
       " 'user_listed_count': 209,\n",
       " 'user_location': \"King's Lynn, England\",\n",
       " 'user_name': 'Robbie Ferri',\n",
       " 'user_screen_name': 'LTDRF',\n",
       " 'user_statuses_count': 11351,\n",
       " 'user_time_zone': 'London',\n",
       " 'user_verified': False,\n",
       " 'hashtags': 'caxtonlife'}"
      ]
     },
     "execution_count": 158,
     "metadata": {},
     "output_type": "execute_result"
    }
   ],
   "source": [
    "dfm.take(1)[0].asDict()"
   ]
  },
  {
   "cell_type": "code",
   "execution_count": 166,
   "id": "floral-lloyd",
   "metadata": {},
   "outputs": [],
   "source": [
    "# Save data as csv file 44 columns \n",
    "dfm.toPandas().to_csv('tweets.csv', sep = \"|\")"
   ]
  },
  {
   "cell_type": "code",
   "execution_count": 165,
   "id": "herbal-speech",
   "metadata": {},
   "outputs": [
    {
     "data": {
      "text/plain": [
       "DataFrame[summary: string, m_id: string, country: string, country_code: string, favorite_count: string, filter_level: string, id: string, id_str: string, in_reply_to_screen_name: string, in_reply_to_status_id: string, in_reply_to_status_id_str: string, in_reply_to_user_id: string, in_reply_to_user_id_str: string, lang: string, quoted_status_id_str: string, retweet_count: string, text: string, timestamp_ms: string, quoted_status_id: string, m_id: string, user_created_at: string, user_description: string, user_favourites_count: string, user_follow_request_sent: string, user_followers_count: string, user_following: string, user_friends_count: string, user_id: string, user_lang: string, user_listed_count: string, user_location: string, user_name: string, user_screen_name: string, user_statuses_count: string, user_time_zone: string, m_id: string, hashtags: string]"
      ]
     },
     "execution_count": 165,
     "metadata": {},
     "output_type": "execute_result"
    }
   ],
   "source": [
    "dfm.describe()"
   ]
  },
  {
   "cell_type": "code",
   "execution_count": null,
   "id": "solved-ceremony",
   "metadata": {},
   "outputs": [],
   "source": []
  }
 ],
 "metadata": {
  "kernelspec": {
   "display_name": "Python 3",
   "language": "python",
   "name": "python3"
  },
  "language_info": {
   "codemirror_mode": {
    "name": "ipython",
    "version": 3
   },
   "file_extension": ".py",
   "mimetype": "text/x-python",
   "name": "python",
   "nbconvert_exporter": "python",
   "pygments_lexer": "ipython3",
   "version": "3.8.6"
  }
 },
 "nbformat": 4,
 "nbformat_minor": 5
}
